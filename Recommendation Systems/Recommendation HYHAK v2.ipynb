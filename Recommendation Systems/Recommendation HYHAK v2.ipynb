{
 "cells": [
  {
   "cell_type": "markdown",
   "id": "73c5286c",
   "metadata": {},
   "source": [
    "# Import Libraries"
   ]
  },
  {
   "cell_type": "code",
   "execution_count": null,
   "id": "95956cb7",
   "metadata": {},
   "outputs": [],
   "source": []
  },
  {
   "cell_type": "code",
   "execution_count": 47,
   "id": "e6ff99d5",
   "metadata": {},
   "outputs": [],
   "source": [
    "import pandas as pd\n",
    "import numpy as np\n",
    "import sys\n",
    "\n",
    "import matplotlib.pyplot as plt\n",
    "import seaborn as sns\n",
    "\n",
    "from sklearn.metrics.pairwise import cosine_similarity\n",
    "from surprise import KNNBasic\n",
    "from surprise import SVD\n",
    "from surprise import Reader\n",
    "from surprise import Dataset, NormalPredictor, Reader\n",
    "from surprise.model_selection import cross_validate"
   ]
  },
  {
   "cell_type": "markdown",
   "id": "6b2a5f94",
   "metadata": {},
   "source": [
    "# Summary\n"
   ]
  },
  {
   "cell_type": "markdown",
   "id": "e9ef9d4f",
   "metadata": {},
   "source": [
    "# 1 - Load Data"
   ]
  },
  {
   "cell_type": "markdown",
   "id": "aee7b105",
   "metadata": {},
   "source": [
    "The First Step of this project was to import the data into the dataframes"
   ]
  },
  {
   "cell_type": "code",
   "execution_count": 2,
   "id": "ec0891bb",
   "metadata": {},
   "outputs": [
    {
     "name": "stdout",
     "output_type": "stream",
     "text": [
      "(1149780, 3)\n",
      "(1031136, 6)\n",
      "(383842, 7)\n"
     ]
    }
   ],
   "source": [
    "#https://www.kaggle.com/datasets/arashnic/book-recommendation-dataset?select=Books.csv\n",
    "\n",
    "data = pd.read_csv('Ratings.csv')\n",
    "\n",
    "book = pd.read_csv('Books.csv',low_memory=False)\n",
    "\n",
    "\n",
    "\n",
    "b_data = pd.merge(data,\n",
    "                 book[['ISBN', 'Book-Title','Book-Author','Publisher']],\n",
    "                 on='ISBN', \n",
    "               how='inner')\n",
    "\n",
    "print(data.shape)\n",
    "print(b_data.shape)\n",
    "\n",
    "b_data=b_data[b_data['Book-Rating']>0].reset_index()\n",
    "\n",
    "print(b_data.shape)\n",
    "\n",
    "\n"
   ]
  },
  {
   "cell_type": "markdown",
   "id": "a4ddb7cc",
   "metadata": {},
   "source": [
    "When loading the dataset we verify if the we had information about the bookings that had reviews based on the ISBN. By doing this we have performed an inner join between the dataframe data anda book. With the function shape it is possible to observe that more than we were not able to find the charectistics of the books from 100k reviews.\n",
    "\n",
    "Also, we have considered that it was only possible to review a book from 1 to 10 so, we have limited the dataframe to reviews with score greater than 0, with this step we reduce our data to be analysed and predicted."
   ]
  },
  {
   "cell_type": "code",
   "execution_count": 3,
   "id": "fc76b1db",
   "metadata": {},
   "outputs": [],
   "source": [
    "count_u=0\n",
    "count_i=0\n",
    "di_u={}\n",
    "di_i={}\n",
    "\n",
    "\n",
    "for i in range(len(b_data)):\n",
    "    if b_data.loc[i,'User-ID'] in di_u:\n",
    "        b_data.loc[i,'User-ID'] = di_u[b_data.loc[i,'User-ID']]\n",
    "    else:\n",
    "        di_u[b_data.loc[i,'User-ID']]=count_u\n",
    "        b_data.loc[i,'User-ID'] = di_u[b_data.loc[i,'User-ID']]\n",
    "        count_u += 1\n",
    "        \n",
    "    if b_data.loc[i,'ISBN'] in di_i:\n",
    "        b_data.loc[i,'ISBN'] = di_i[b_data.loc[i,'ISBN']]\n",
    "    else:\n",
    "        di_i[b_data.loc[i,'ISBN']] = count_i\n",
    "        b_data.loc[i,'ISBN']=di_i[b_data.loc[i,'ISBN']]\n",
    "        count_i += 1"
   ]
  },
  {
   "cell_type": "markdown",
   "id": "4d183fc6",
   "metadata": {},
   "source": [
    "The code above represents the indexation of users and books in a sequencial order to allow better analysis in this project"
   ]
  },
  {
   "cell_type": "markdown",
   "id": "25a43711",
   "metadata": {},
   "source": [
    "# 2 -  Exploratory Data Analysis"
   ]
  },
  {
   "cell_type": "markdown",
   "id": "0f81e85b",
   "metadata": {},
   "source": [
    "We start this step by analysing the missing values, quality of the data and distribution of the results"
   ]
  },
  {
   "cell_type": "code",
   "execution_count": 4,
   "id": "70a34b9c",
   "metadata": {},
   "outputs": [
    {
     "name": "stdout",
     "output_type": "stream",
     "text": [
      "<class 'pandas.core.frame.DataFrame'>\n",
      "RangeIndex: 383842 entries, 0 to 383841\n",
      "Data columns (total 7 columns):\n",
      " #   Column       Non-Null Count   Dtype \n",
      "---  ------       --------------   ----- \n",
      " 0   index        383842 non-null  int64 \n",
      " 1   User-ID      383842 non-null  int64 \n",
      " 2   ISBN         383842 non-null  object\n",
      " 3   Book-Rating  383842 non-null  int64 \n",
      " 4   Book-Title   383842 non-null  object\n",
      " 5   Book-Author  383841 non-null  object\n",
      " 6   Publisher    383840 non-null  object\n",
      "dtypes: int64(3), object(4)\n",
      "memory usage: 20.5+ MB\n"
     ]
    }
   ],
   "source": [
    "b_data.info()"
   ]
  },
  {
   "cell_type": "markdown",
   "id": "595b708a",
   "metadata": {},
   "source": [
    "We only have 2 rows with the Publisher missing and 1 where the Author is missing"
   ]
  },
  {
   "cell_type": "code",
   "execution_count": 5,
   "id": "1ca65ba2",
   "metadata": {},
   "outputs": [
    {
     "data": {
      "text/html": [
       "<div>\n",
       "<style scoped>\n",
       "    .dataframe tbody tr th:only-of-type {\n",
       "        vertical-align: middle;\n",
       "    }\n",
       "\n",
       "    .dataframe tbody tr th {\n",
       "        vertical-align: top;\n",
       "    }\n",
       "\n",
       "    .dataframe thead th {\n",
       "        text-align: right;\n",
       "    }\n",
       "</style>\n",
       "<table border=\"1\" class=\"dataframe\">\n",
       "  <thead>\n",
       "    <tr style=\"text-align: right;\">\n",
       "      <th></th>\n",
       "      <th>index</th>\n",
       "      <th>User-ID</th>\n",
       "      <th>ISBN</th>\n",
       "      <th>Book-Rating</th>\n",
       "      <th>Book-Title</th>\n",
       "      <th>Book-Author</th>\n",
       "      <th>Publisher</th>\n",
       "    </tr>\n",
       "  </thead>\n",
       "  <tbody>\n",
       "    <tr>\n",
       "      <th>324298</th>\n",
       "      <td>863398</td>\n",
       "      <td>7428</td>\n",
       "      <td>97100</td>\n",
       "      <td>8</td>\n",
       "      <td>The Credit Suisse Guide to Managing Your Perso...</td>\n",
       "      <td>NaN</td>\n",
       "      <td>Edinburgh Financial Publishing</td>\n",
       "    </tr>\n",
       "  </tbody>\n",
       "</table>\n",
       "</div>"
      ],
      "text/plain": [
       "         index  User-ID   ISBN  Book-Rating  \\\n",
       "324298  863398     7428  97100            8   \n",
       "\n",
       "                                               Book-Title Book-Author  \\\n",
       "324298  The Credit Suisse Guide to Managing Your Perso...         NaN   \n",
       "\n",
       "                             Publisher  \n",
       "324298  Edinburgh Financial Publishing  "
      ]
     },
     "execution_count": 5,
     "metadata": {},
     "output_type": "execute_result"
    }
   ],
   "source": [
    "b_data[b_data['Book-Author'].isnull()]"
   ]
  },
  {
   "cell_type": "code",
   "execution_count": 6,
   "id": "f86d94a1",
   "metadata": {},
   "outputs": [
    {
     "data": {
      "text/html": [
       "<div>\n",
       "<style scoped>\n",
       "    .dataframe tbody tr th:only-of-type {\n",
       "        vertical-align: middle;\n",
       "    }\n",
       "\n",
       "    .dataframe tbody tr th {\n",
       "        vertical-align: top;\n",
       "    }\n",
       "\n",
       "    .dataframe thead th {\n",
       "        text-align: right;\n",
       "    }\n",
       "</style>\n",
       "<table border=\"1\" class=\"dataframe\">\n",
       "  <thead>\n",
       "    <tr style=\"text-align: right;\">\n",
       "      <th></th>\n",
       "      <th>index</th>\n",
       "      <th>User-ID</th>\n",
       "      <th>ISBN</th>\n",
       "      <th>Book-Rating</th>\n",
       "      <th>Book-Title</th>\n",
       "      <th>Book-Author</th>\n",
       "      <th>Publisher</th>\n",
       "    </tr>\n",
       "  </thead>\n",
       "  <tbody>\n",
       "    <tr>\n",
       "      <th>324298</th>\n",
       "      <td>863398</td>\n",
       "      <td>7428</td>\n",
       "      <td>97100</td>\n",
       "      <td>8</td>\n",
       "      <td>The Credit Suisse Guide to Managing Your Perso...</td>\n",
       "      <td>NaN</td>\n",
       "      <td>Edinburgh Financial Publishing</td>\n",
       "    </tr>\n",
       "  </tbody>\n",
       "</table>\n",
       "</div>"
      ],
      "text/plain": [
       "         index  User-ID   ISBN  Book-Rating  \\\n",
       "324298  863398     7428  97100            8   \n",
       "\n",
       "                                               Book-Title Book-Author  \\\n",
       "324298  The Credit Suisse Guide to Managing Your Perso...         NaN   \n",
       "\n",
       "                             Publisher  \n",
       "324298  Edinburgh Financial Publishing  "
      ]
     },
     "execution_count": 6,
     "metadata": {},
     "output_type": "execute_result"
    }
   ],
   "source": [
    "b_data[b_data['ISBN']==97100]"
   ]
  },
  {
   "cell_type": "markdown",
   "id": "62e975eb",
   "metadata": {},
   "source": [
    "Since there was only one entry on the data set the only way to fill the Author name was by searching the book online. "
   ]
  },
  {
   "cell_type": "code",
   "execution_count": 7,
   "id": "49f6761a",
   "metadata": {},
   "outputs": [],
   "source": [
    "b_data.loc[b_data['ISBN']==97100,'Book-Author'] = 'Larissa Anne Downes'"
   ]
  },
  {
   "cell_type": "code",
   "execution_count": 8,
   "id": "1665fe0a",
   "metadata": {},
   "outputs": [
    {
     "data": {
      "text/plain": [
       "324298    Larissa Anne Downes\n",
       "Name: Book-Author, dtype: object"
      ]
     },
     "execution_count": 8,
     "metadata": {},
     "output_type": "execute_result"
    }
   ],
   "source": [
    "b_data.loc[b_data['ISBN']==97100,'Book-Author']"
   ]
  },
  {
   "cell_type": "code",
   "execution_count": 9,
   "id": "e7d42dce",
   "metadata": {},
   "outputs": [
    {
     "data": {
      "text/html": [
       "<div>\n",
       "<style scoped>\n",
       "    .dataframe tbody tr th:only-of-type {\n",
       "        vertical-align: middle;\n",
       "    }\n",
       "\n",
       "    .dataframe tbody tr th {\n",
       "        vertical-align: top;\n",
       "    }\n",
       "\n",
       "    .dataframe thead th {\n",
       "        text-align: right;\n",
       "    }\n",
       "</style>\n",
       "<table border=\"1\" class=\"dataframe\">\n",
       "  <thead>\n",
       "    <tr style=\"text-align: right;\">\n",
       "      <th></th>\n",
       "      <th>index</th>\n",
       "      <th>User-ID</th>\n",
       "      <th>ISBN</th>\n",
       "      <th>Book-Rating</th>\n",
       "      <th>Book-Title</th>\n",
       "      <th>Book-Author</th>\n",
       "      <th>Publisher</th>\n",
       "    </tr>\n",
       "  </thead>\n",
       "  <tbody>\n",
       "    <tr>\n",
       "      <th>324148</th>\n",
       "      <td>862973</td>\n",
       "      <td>7</td>\n",
       "      <td>96985</td>\n",
       "      <td>9</td>\n",
       "      <td>Tyrant Moon</td>\n",
       "      <td>Elaine Corvidae</td>\n",
       "      <td>NaN</td>\n",
       "    </tr>\n",
       "    <tr>\n",
       "      <th>324158</th>\n",
       "      <td>862984</td>\n",
       "      <td>7</td>\n",
       "      <td>96994</td>\n",
       "      <td>9</td>\n",
       "      <td>Finders Keepers</td>\n",
       "      <td>Linnea Sinclair</td>\n",
       "      <td>NaN</td>\n",
       "    </tr>\n",
       "  </tbody>\n",
       "</table>\n",
       "</div>"
      ],
      "text/plain": [
       "         index  User-ID   ISBN  Book-Rating       Book-Title      Book-Author  \\\n",
       "324148  862973        7  96985            9      Tyrant Moon  Elaine Corvidae   \n",
       "324158  862984        7  96994            9  Finders Keepers  Linnea Sinclair   \n",
       "\n",
       "       Publisher  \n",
       "324148       NaN  \n",
       "324158       NaN  "
      ]
     },
     "execution_count": 9,
     "metadata": {},
     "output_type": "execute_result"
    }
   ],
   "source": [
    "b_data[b_data['Publisher'].isnull()]"
   ]
  },
  {
   "cell_type": "code",
   "execution_count": 10,
   "id": "10b5cc25",
   "metadata": {},
   "outputs": [
    {
     "data": {
      "text/html": [
       "<div>\n",
       "<style scoped>\n",
       "    .dataframe tbody tr th:only-of-type {\n",
       "        vertical-align: middle;\n",
       "    }\n",
       "\n",
       "    .dataframe tbody tr th {\n",
       "        vertical-align: top;\n",
       "    }\n",
       "\n",
       "    .dataframe thead th {\n",
       "        text-align: right;\n",
       "    }\n",
       "</style>\n",
       "<table border=\"1\" class=\"dataframe\">\n",
       "  <thead>\n",
       "    <tr style=\"text-align: right;\">\n",
       "      <th></th>\n",
       "      <th>index</th>\n",
       "      <th>User-ID</th>\n",
       "      <th>ISBN</th>\n",
       "      <th>Book-Rating</th>\n",
       "      <th>Book-Title</th>\n",
       "      <th>Book-Author</th>\n",
       "      <th>Publisher</th>\n",
       "    </tr>\n",
       "  </thead>\n",
       "  <tbody>\n",
       "    <tr>\n",
       "      <th>324148</th>\n",
       "      <td>862973</td>\n",
       "      <td>7</td>\n",
       "      <td>96985</td>\n",
       "      <td>9</td>\n",
       "      <td>Tyrant Moon</td>\n",
       "      <td>Elaine Corvidae</td>\n",
       "      <td>NaN</td>\n",
       "    </tr>\n",
       "  </tbody>\n",
       "</table>\n",
       "</div>"
      ],
      "text/plain": [
       "         index  User-ID   ISBN  Book-Rating   Book-Title      Book-Author  \\\n",
       "324148  862973        7  96985            9  Tyrant Moon  Elaine Corvidae   \n",
       "\n",
       "       Publisher  \n",
       "324148       NaN  "
      ]
     },
     "execution_count": 10,
     "metadata": {},
     "output_type": "execute_result"
    }
   ],
   "source": [
    "b_data[b_data['ISBN']==96985] "
   ]
  },
  {
   "cell_type": "code",
   "execution_count": 11,
   "id": "6e98e716",
   "metadata": {},
   "outputs": [],
   "source": [
    "b_data.loc[b_data['ISBN']==96985,'Publisher'] ='Mundania Press'"
   ]
  },
  {
   "cell_type": "code",
   "execution_count": 12,
   "id": "6aee51e2",
   "metadata": {},
   "outputs": [
    {
     "data": {
      "text/html": [
       "<div>\n",
       "<style scoped>\n",
       "    .dataframe tbody tr th:only-of-type {\n",
       "        vertical-align: middle;\n",
       "    }\n",
       "\n",
       "    .dataframe tbody tr th {\n",
       "        vertical-align: top;\n",
       "    }\n",
       "\n",
       "    .dataframe thead th {\n",
       "        text-align: right;\n",
       "    }\n",
       "</style>\n",
       "<table border=\"1\" class=\"dataframe\">\n",
       "  <thead>\n",
       "    <tr style=\"text-align: right;\">\n",
       "      <th></th>\n",
       "      <th>index</th>\n",
       "      <th>User-ID</th>\n",
       "      <th>ISBN</th>\n",
       "      <th>Book-Rating</th>\n",
       "      <th>Book-Title</th>\n",
       "      <th>Book-Author</th>\n",
       "      <th>Publisher</th>\n",
       "    </tr>\n",
       "  </thead>\n",
       "  <tbody>\n",
       "    <tr>\n",
       "      <th>324158</th>\n",
       "      <td>862984</td>\n",
       "      <td>7</td>\n",
       "      <td>96994</td>\n",
       "      <td>9</td>\n",
       "      <td>Finders Keepers</td>\n",
       "      <td>Linnea Sinclair</td>\n",
       "      <td>NaN</td>\n",
       "    </tr>\n",
       "  </tbody>\n",
       "</table>\n",
       "</div>"
      ],
      "text/plain": [
       "         index  User-ID   ISBN  Book-Rating       Book-Title      Book-Author  \\\n",
       "324158  862984        7  96994            9  Finders Keepers  Linnea Sinclair   \n",
       "\n",
       "       Publisher  \n",
       "324158       NaN  "
      ]
     },
     "execution_count": 12,
     "metadata": {},
     "output_type": "execute_result"
    }
   ],
   "source": [
    "b_data[b_data['ISBN']==96994] "
   ]
  },
  {
   "cell_type": "code",
   "execution_count": 13,
   "id": "7572990b",
   "metadata": {},
   "outputs": [],
   "source": [
    "b_data.loc[b_data['ISBN']==96994,'Publisher']='Bantam'"
   ]
  },
  {
   "cell_type": "markdown",
   "id": "8d40a097",
   "metadata": {},
   "source": [
    "Once again there was only one entry in the dataset so we have searched online for the publishers"
   ]
  },
  {
   "cell_type": "code",
   "execution_count": 14,
   "id": "c4aee4a7",
   "metadata": {},
   "outputs": [
    {
     "name": "stdout",
     "output_type": "stream",
     "text": [
      "<class 'pandas.core.frame.DataFrame'>\n",
      "RangeIndex: 383842 entries, 0 to 383841\n",
      "Data columns (total 7 columns):\n",
      " #   Column       Non-Null Count   Dtype \n",
      "---  ------       --------------   ----- \n",
      " 0   index        383842 non-null  int64 \n",
      " 1   User-ID      383842 non-null  int64 \n",
      " 2   ISBN         383842 non-null  object\n",
      " 3   Book-Rating  383842 non-null  int64 \n",
      " 4   Book-Title   383842 non-null  object\n",
      " 5   Book-Author  383842 non-null  object\n",
      " 6   Publisher    383842 non-null  object\n",
      "dtypes: int64(3), object(4)\n",
      "memory usage: 20.5+ MB\n"
     ]
    }
   ],
   "source": [
    "b_data.info()"
   ]
  },
  {
   "cell_type": "markdown",
   "id": "cb486efd",
   "metadata": {},
   "source": [
    "## 2.1 - Book Rating"
   ]
  },
  {
   "cell_type": "markdown",
   "id": "2ada2d2d",
   "metadata": {},
   "source": [
    "In order to understand the behavior of the reviews we got, the first step was to analyse the distribution of the reviews we had"
   ]
  },
  {
   "cell_type": "code",
   "execution_count": 15,
   "id": "ec3cd9f2",
   "metadata": {},
   "outputs": [
    {
     "data": {
      "text/plain": [
       "array([ 1,  2,  3,  4,  5,  6,  7,  8,  9, 10], dtype=int64)"
      ]
     },
     "execution_count": 15,
     "metadata": {},
     "output_type": "execute_result"
    }
   ],
   "source": [
    "np.sort(b_data['Book-Rating'].unique())"
   ]
  },
  {
   "cell_type": "code",
   "execution_count": 16,
   "id": "aaa93d32",
   "metadata": {},
   "outputs": [
    {
     "data": {
      "text/plain": [
       "Text(0.5, 1.0, 'Number of Reviews per Rating')"
      ]
     },
     "execution_count": 16,
     "metadata": {},
     "output_type": "execute_result"
    },
    {
     "data": {
      "image/png": "[encoded data removed]",
      "text/plain": [
       "<Figure size 432x288 with 1 Axes>"
      ]
     },
     "metadata": {
      "needs_background": "light"
     },
     "output_type": "display_data"
    }
   ],
   "source": [
    "sns.countplot(data=b_data, x='Book-Rating')\n",
    "plt.title('Number of Reviews per Rating',fontsize=20)"
   ]
  },
  {
   "cell_type": "markdown",
   "id": "f333d0ec",
   "metadata": {},
   "source": [
    "By plotting the number of reviews for each rating we can observe that the most common review value is 8 and the majority of the reviewers give a rating of 5 or higher to the books.\n",
    "With this conclusion it will be interesting to understanding if the recommendation system accuracy improves if we only consider reviews of 5 or higher"
   ]
  },
  {
   "cell_type": "markdown",
   "id": "e30f7361",
   "metadata": {},
   "source": [
    "## 2.2 - Book Analysis"
   ]
  },
  {
   "cell_type": "markdown",
   "id": "8f624adb",
   "metadata": {},
   "source": [
    "The next step was to understand the number of different books we have and if they all have the same number (or similiar number) of reviews"
   ]
  },
  {
   "cell_type": "code",
   "execution_count": 17,
   "id": "b6d13919",
   "metadata": {},
   "outputs": [
    {
     "data": {
      "text/plain": [
       "149836"
      ]
     },
     "execution_count": 17,
     "metadata": {},
     "output_type": "execute_result"
    }
   ],
   "source": [
    "np.set_printoptions(threshold=sys.maxsize)\n",
    "b_data['ISBN'].nunique()"
   ]
  },
  {
   "cell_type": "code",
   "execution_count": 18,
   "id": "9a7311b0",
   "metadata": {},
   "outputs": [
    {
     "data": {
      "text/plain": [
       "Text(0.5, 1.0, 'Reviews Per Book')"
      ]
     },
     "execution_count": 18,
     "metadata": {},
     "output_type": "execute_result"
    },
    {
     "data": {
      "image/png": "[encoded data removed]",
      "text/plain": [
       "<Figure size 1008x360 with 1 Axes>"
      ]
     },
     "metadata": {
      "needs_background": "light"
     },
     "output_type": "display_data"
    }
   ],
   "source": [
    "b_data.groupby(['ISBN'])['Book-Rating'].count().sort_values(ascending=False)[:50].plot(kind='bar',figsize=(14,5))\n",
    "plt.title('Reviews Per Book',fontsize=20)"
   ]
  },
  {
   "cell_type": "code",
   "execution_count": 19,
   "id": "e040c323",
   "metadata": {},
   "outputs": [
    {
     "data": {
      "text/plain": [
       "count    149836.000000\n",
       "mean          2.561748\n",
       "std           7.505562\n",
       "min           1.000000\n",
       "10%           1.000000\n",
       "20%           1.000000\n",
       "30%           1.000000\n",
       "40%           1.000000\n",
       "50%           1.000000\n",
       "60%           1.000000\n",
       "70%           2.000000\n",
       "80%           2.000000\n",
       "90%           4.000000\n",
       "max         707.000000\n",
       "Name: Book-Rating, dtype: float64"
      ]
     },
     "execution_count": 19,
     "metadata": {},
     "output_type": "execute_result"
    }
   ],
   "source": [
    "b_data.groupby(['ISBN'])['Book-Rating'].count().sort_values(ascending=False).describe(percentiles=[0.1,0.2,0.3,0.4,0.5,0.6,0.7,0.8,0.9])"
   ]
  },
  {
   "cell_type": "code",
   "execution_count": 20,
   "id": "6d1c67d7",
   "metadata": {},
   "outputs": [
    {
     "data": {
      "text/html": [
       "<div>\n",
       "<style scoped>\n",
       "    .dataframe tbody tr th:only-of-type {\n",
       "        vertical-align: middle;\n",
       "    }\n",
       "\n",
       "    .dataframe tbody tr th {\n",
       "        vertical-align: top;\n",
       "    }\n",
       "\n",
       "    .dataframe thead th {\n",
       "        text-align: right;\n",
       "    }\n",
       "</style>\n",
       "<table border=\"1\" class=\"dataframe\">\n",
       "  <thead>\n",
       "    <tr style=\"text-align: right;\">\n",
       "      <th></th>\n",
       "      <th>ISBN</th>\n",
       "      <th>Book-Title</th>\n",
       "      <th>Book-Rating</th>\n",
       "    </tr>\n",
       "  </thead>\n",
       "  <tbody>\n",
       "    <tr>\n",
       "      <th>0</th>\n",
       "      <td>246</td>\n",
       "      <td>The Lovely Bones: A Novel</td>\n",
       "      <td>707</td>\n",
       "    </tr>\n",
       "    <tr>\n",
       "      <th>1</th>\n",
       "      <td>266</td>\n",
       "      <td>Wild Animus</td>\n",
       "      <td>581</td>\n",
       "    </tr>\n",
       "    <tr>\n",
       "      <th>2</th>\n",
       "      <td>249</td>\n",
       "      <td>The Da Vinci Code</td>\n",
       "      <td>487</td>\n",
       "    </tr>\n",
       "    <tr>\n",
       "      <th>3</th>\n",
       "      <td>916</td>\n",
       "      <td>The Red Tent (Bestselling Backlist)</td>\n",
       "      <td>383</td>\n",
       "    </tr>\n",
       "    <tr>\n",
       "      <th>4</th>\n",
       "      <td>1994</td>\n",
       "      <td>Divine Secrets of the Ya-Ya Sisterhood: A Novel</td>\n",
       "      <td>320</td>\n",
       "    </tr>\n",
       "  </tbody>\n",
       "</table>\n",
       "</div>"
      ],
      "text/plain": [
       "   ISBN                                       Book-Title  Book-Rating\n",
       "0   246                        The Lovely Bones: A Novel          707\n",
       "1   266                                      Wild Animus          581\n",
       "2   249                                The Da Vinci Code          487\n",
       "3   916              The Red Tent (Bestselling Backlist)          383\n",
       "4  1994  Divine Secrets of the Ya-Ya Sisterhood: A Novel          320"
      ]
     },
     "execution_count": 20,
     "metadata": {},
     "output_type": "execute_result"
    }
   ],
   "source": [
    "df = pd.DataFrame(b_data.groupby(['ISBN','Book-Title'])['Book-Rating'].count().sort_values(ascending=False),index=None)\n",
    "df2 = df[df['Book-Rating']>4].reset_index()\n",
    "df2.shape\n",
    "df2.head()"
   ]
  },
  {
   "cell_type": "code",
   "execution_count": 21,
   "id": "de930d6f",
   "metadata": {},
   "outputs": [
    {
     "data": {
      "text/html": [
       "<div>\n",
       "<style scoped>\n",
       "    .dataframe tbody tr th:only-of-type {\n",
       "        vertical-align: middle;\n",
       "    }\n",
       "\n",
       "    .dataframe tbody tr th {\n",
       "        vertical-align: top;\n",
       "    }\n",
       "\n",
       "    .dataframe thead th {\n",
       "        text-align: right;\n",
       "    }\n",
       "</style>\n",
       "<table border=\"1\" class=\"dataframe\">\n",
       "  <thead>\n",
       "    <tr style=\"text-align: right;\">\n",
       "      <th></th>\n",
       "      <th>count_nonzero</th>\n",
       "      <th>mean</th>\n",
       "    </tr>\n",
       "  </thead>\n",
       "  <tbody>\n",
       "    <tr>\n",
       "      <th>count</th>\n",
       "      <td>149836.000000</td>\n",
       "      <td>149836.000000</td>\n",
       "    </tr>\n",
       "    <tr>\n",
       "      <th>mean</th>\n",
       "      <td>2.561748</td>\n",
       "      <td>7.527543</td>\n",
       "    </tr>\n",
       "    <tr>\n",
       "      <th>std</th>\n",
       "      <td>7.505562</td>\n",
       "      <td>1.711876</td>\n",
       "    </tr>\n",
       "    <tr>\n",
       "      <th>min</th>\n",
       "      <td>1.000000</td>\n",
       "      <td>1.000000</td>\n",
       "    </tr>\n",
       "    <tr>\n",
       "      <th>10%</th>\n",
       "      <td>1.000000</td>\n",
       "      <td>5.000000</td>\n",
       "    </tr>\n",
       "    <tr>\n",
       "      <th>20%</th>\n",
       "      <td>1.000000</td>\n",
       "      <td>6.000000</td>\n",
       "    </tr>\n",
       "    <tr>\n",
       "      <th>30%</th>\n",
       "      <td>1.000000</td>\n",
       "      <td>7.000000</td>\n",
       "    </tr>\n",
       "    <tr>\n",
       "      <th>40%</th>\n",
       "      <td>1.000000</td>\n",
       "      <td>7.000000</td>\n",
       "    </tr>\n",
       "    <tr>\n",
       "      <th>50%</th>\n",
       "      <td>1.000000</td>\n",
       "      <td>8.000000</td>\n",
       "    </tr>\n",
       "    <tr>\n",
       "      <th>60%</th>\n",
       "      <td>1.000000</td>\n",
       "      <td>8.000000</td>\n",
       "    </tr>\n",
       "    <tr>\n",
       "      <th>70%</th>\n",
       "      <td>2.000000</td>\n",
       "      <td>8.500000</td>\n",
       "    </tr>\n",
       "    <tr>\n",
       "      <th>80%</th>\n",
       "      <td>2.000000</td>\n",
       "      <td>9.000000</td>\n",
       "    </tr>\n",
       "    <tr>\n",
       "      <th>90%</th>\n",
       "      <td>4.000000</td>\n",
       "      <td>10.000000</td>\n",
       "    </tr>\n",
       "    <tr>\n",
       "      <th>max</th>\n",
       "      <td>707.000000</td>\n",
       "      <td>10.000000</td>\n",
       "    </tr>\n",
       "  </tbody>\n",
       "</table>\n",
       "</div>"
      ],
      "text/plain": [
       "       count_nonzero           mean\n",
       "count  149836.000000  149836.000000\n",
       "mean        2.561748       7.527543\n",
       "std         7.505562       1.711876\n",
       "min         1.000000       1.000000\n",
       "10%         1.000000       5.000000\n",
       "20%         1.000000       6.000000\n",
       "30%         1.000000       7.000000\n",
       "40%         1.000000       7.000000\n",
       "50%         1.000000       8.000000\n",
       "60%         1.000000       8.000000\n",
       "70%         2.000000       8.500000\n",
       "80%         2.000000       9.000000\n",
       "90%         4.000000      10.000000\n",
       "max       707.000000      10.000000"
      ]
     },
     "execution_count": 21,
     "metadata": {},
     "output_type": "execute_result"
    }
   ],
   "source": [
    "pd.DataFrame(b_data.groupby(['ISBN','Book-Title'])['Book-Rating'].agg([np.count_nonzero, np.mean])).describe(percentiles=[0.1,0.2,0.3,0.4,0.5,0.6,0.7,0.8,0.9])"
   ]
  },
  {
   "cell_type": "markdown",
   "id": "042e79ce",
   "metadata": {},
   "source": [
    "With this analysis, it was possible to observe that there are books that have a very high number of reviews and the next rating ones decrease in a linear way.\n",
    "Also, since 90% of the books have 4 or less reviews, to improve the accuracy of the recommendation system we can use only books that were reviewed more than 4 times."
   ]
  },
  {
   "cell_type": "markdown",
   "id": "3c89c241",
   "metadata": {},
   "source": [
    "## 2.3 - Book Author"
   ]
  },
  {
   "cell_type": "markdown",
   "id": "1382f59a",
   "metadata": {},
   "source": [
    "The final Analysis was in regards of the book authors. Here we want to understand if the number of reviews a author has, impacts the average score "
   ]
  },
  {
   "cell_type": "code",
   "execution_count": 22,
   "id": "06913a50",
   "metadata": {},
   "outputs": [
    {
     "data": {
      "text/plain": [
       "62114"
      ]
     },
     "execution_count": 22,
     "metadata": {},
     "output_type": "execute_result"
    }
   ],
   "source": [
    "b_data['Book-Author'].nunique()"
   ]
  },
  {
   "cell_type": "code",
   "execution_count": 23,
   "id": "72c3ae83",
   "metadata": {},
   "outputs": [],
   "source": [
    "ba_data=pd.DataFrame(b_data.groupby(['Book-Author'])['Book-Rating'].agg([np.count_nonzero, np.mean]))"
   ]
  },
  {
   "cell_type": "code",
   "execution_count": 24,
   "id": "38ce2dc1",
   "metadata": {},
   "outputs": [
    {
     "data": {
      "image/png": "[encoded data removed]",
      "text/plain": [
       "<Figure size 432x288 with 1 Axes>"
      ]
     },
     "metadata": {
      "needs_background": "light"
     },
     "output_type": "display_data"
    }
   ],
   "source": [
    "plt.scatter(ba_data['count_nonzero'], ba_data['mean'])\n",
    "plt.show()"
   ]
  },
  {
   "cell_type": "code",
   "execution_count": 25,
   "id": "5bf92135",
   "metadata": {},
   "outputs": [
    {
     "data": {
      "text/html": [
       "<div>\n",
       "<style scoped>\n",
       "    .dataframe tbody tr th:only-of-type {\n",
       "        vertical-align: middle;\n",
       "    }\n",
       "\n",
       "    .dataframe tbody tr th {\n",
       "        vertical-align: top;\n",
       "    }\n",
       "\n",
       "    .dataframe thead th {\n",
       "        text-align: right;\n",
       "    }\n",
       "</style>\n",
       "<table border=\"1\" class=\"dataframe\">\n",
       "  <thead>\n",
       "    <tr style=\"text-align: right;\">\n",
       "      <th></th>\n",
       "      <th>count_nonzero</th>\n",
       "      <th>mean</th>\n",
       "    </tr>\n",
       "  </thead>\n",
       "  <tbody>\n",
       "    <tr>\n",
       "      <th>count</th>\n",
       "      <td>62114.000000</td>\n",
       "      <td>62114.000000</td>\n",
       "    </tr>\n",
       "    <tr>\n",
       "      <th>mean</th>\n",
       "      <td>6.179637</td>\n",
       "      <td>7.514813</td>\n",
       "    </tr>\n",
       "    <tr>\n",
       "      <th>std</th>\n",
       "      <td>42.811930</td>\n",
       "      <td>1.670584</td>\n",
       "    </tr>\n",
       "    <tr>\n",
       "      <th>min</th>\n",
       "      <td>1.000000</td>\n",
       "      <td>1.000000</td>\n",
       "    </tr>\n",
       "    <tr>\n",
       "      <th>10%</th>\n",
       "      <td>1.000000</td>\n",
       "      <td>5.000000</td>\n",
       "    </tr>\n",
       "    <tr>\n",
       "      <th>20%</th>\n",
       "      <td>1.000000</td>\n",
       "      <td>6.000000</td>\n",
       "    </tr>\n",
       "    <tr>\n",
       "      <th>30%</th>\n",
       "      <td>1.000000</td>\n",
       "      <td>7.000000</td>\n",
       "    </tr>\n",
       "    <tr>\n",
       "      <th>40%</th>\n",
       "      <td>1.000000</td>\n",
       "      <td>7.000000</td>\n",
       "    </tr>\n",
       "    <tr>\n",
       "      <th>50%</th>\n",
       "      <td>1.000000</td>\n",
       "      <td>7.750000</td>\n",
       "    </tr>\n",
       "    <tr>\n",
       "      <th>60%</th>\n",
       "      <td>2.000000</td>\n",
       "      <td>8.000000</td>\n",
       "    </tr>\n",
       "    <tr>\n",
       "      <th>70%</th>\n",
       "      <td>2.000000</td>\n",
       "      <td>8.333333</td>\n",
       "    </tr>\n",
       "    <tr>\n",
       "      <th>80%</th>\n",
       "      <td>4.000000</td>\n",
       "      <td>9.000000</td>\n",
       "    </tr>\n",
       "    <tr>\n",
       "      <th>90%</th>\n",
       "      <td>8.000000</td>\n",
       "      <td>10.000000</td>\n",
       "    </tr>\n",
       "    <tr>\n",
       "      <th>max</th>\n",
       "      <td>4639.000000</td>\n",
       "      <td>10.000000</td>\n",
       "    </tr>\n",
       "  </tbody>\n",
       "</table>\n",
       "</div>"
      ],
      "text/plain": [
       "       count_nonzero          mean\n",
       "count   62114.000000  62114.000000\n",
       "mean        6.179637      7.514813\n",
       "std        42.811930      1.670584\n",
       "min         1.000000      1.000000\n",
       "10%         1.000000      5.000000\n",
       "20%         1.000000      6.000000\n",
       "30%         1.000000      7.000000\n",
       "40%         1.000000      7.000000\n",
       "50%         1.000000      7.750000\n",
       "60%         2.000000      8.000000\n",
       "70%         2.000000      8.333333\n",
       "80%         4.000000      9.000000\n",
       "90%         8.000000     10.000000\n",
       "max      4639.000000     10.000000"
      ]
     },
     "execution_count": 25,
     "metadata": {},
     "output_type": "execute_result"
    }
   ],
   "source": [
    "ba_data.describe(percentiles=[0.1,0.2,0.3,0.4,0.5,0.6,0.7,0.8,0.9])"
   ]
  },
  {
   "cell_type": "code",
   "execution_count": 26,
   "id": "137f305e",
   "metadata": {},
   "outputs": [],
   "source": [
    "ba_data2 = ba_data[ba_data['count_nonzero']>=8]\n",
    "aut = np.array(ba_data2.index)"
   ]
  },
  {
   "cell_type": "code",
   "execution_count": 27,
   "id": "9d24c20a",
   "metadata": {},
   "outputs": [
    {
     "data": {
      "image/png": "[encoded data removed]",
      "text/plain": [
       "<Figure size 432x288 with 1 Axes>"
      ]
     },
     "metadata": {
      "needs_background": "light"
     },
     "output_type": "display_data"
    }
   ],
   "source": [
    "plt.scatter(ba_data['count_nonzero'], ba_data['mean'])\n",
    "plt.show()"
   ]
  },
  {
   "cell_type": "markdown",
   "id": "843beed9",
   "metadata": {},
   "source": [
    "With this scatter plot we can see that the increase amount of reviews for a Author results in the average review per author to be around 8.\n",
    "Since 90% of the authors have 8 or less reviews to increase the recommendation model we can try to select only authors with more than 8 reviews"
   ]
  },
  {
   "cell_type": "markdown",
   "id": "c39a9053",
   "metadata": {},
   "source": [
    "# 3 - Recommendation System "
   ]
  },
  {
   "cell_type": "markdown",
   "id": "1b318a93",
   "metadata": {},
   "source": [
    "To apply a recommendation system for the combination User x Item, we will use the package Surprise and three different methodologies in order to understand which one is the best for the currernt project. These methodologies are:\n",
    "1. Normal Predictor\n",
    "2. KNN Basic\n",
    "3. SVD"
   ]
  },
  {
   "cell_type": "markdown",
   "id": "4229e4a0",
   "metadata": {},
   "source": [
    "## 3.1 - Using the main dataset without filtering"
   ]
  },
  {
   "cell_type": "code",
   "execution_count": 48,
   "id": "3ddfa985",
   "metadata": {},
   "outputs": [
    {
     "name": "stdout",
     "output_type": "stream",
     "text": [
      "Normal Predictor: {'test_rmse': array([2.50432791, 2.4932666 , 2.50692213, 2.51184451, 2.50439648]), 'test_mae': array([1.99909138, 1.99021294, 2.00101988, 2.00334293, 1.99841217]), 'fit_time': (0.4015927314758301, 0.5116405487060547, 0.5538828372955322, 0.5390088558197021, 0.5227370262145996), 'test_time': (0.3995859622955322, 0.5483787059783936, 0.5771021842956543, 0.6665480136871338, 0.6516165733337402)}\n",
      "Computing the msd similarity matrix...\n",
      "Done computing similarity matrix.\n",
      "Computing the msd similarity matrix...\n",
      "Done computing similarity matrix.\n",
      "Computing the msd similarity matrix...\n",
      "Done computing similarity matrix.\n",
      "Computing the msd similarity matrix...\n",
      "Done computing similarity matrix.\n",
      "Computing the msd similarity matrix...\n",
      "Done computing similarity matrix.\n",
      "KNN Basic: {'test_rmse': array([1.93237584, 1.94344664, 1.93433971, 1.93067784, 1.95129194]), 'test_mae': array([1.52179495, 1.5312376 , 1.52197976, 1.52047686, 1.53286796]), 'fit_time': (30.61154866218567, 30.104285955429077, 32.69492197036743, 33.424447774887085, 33.475013971328735), 'test_time': (1.5716681480407715, 2.312925338745117, 1.9489805698394775, 2.608834981918335, 2.2635233402252197)}\n",
      "SVD: {'test_rmse': array([1.63969291, 1.63839299, 1.63273074, 1.63420618, 1.63419918]), 'test_mae': array([1.26387852, 1.26348951, 1.26221448, 1.2609155 , 1.26162791]), 'fit_time': (4.572225570678711, 6.280780553817749, 6.237967491149902, 5.77703595161438, 6.15944504737854), 'test_time': (0.4061565399169922, 0.5996494293212891, 0.4503519535064697, 0.6996500492095947, 0.7348887920379639)}\n"
     ]
    }
   ],
   "source": [
    "#Rating Scale from 1-10\n",
    "reader = Reader(rating_scale=(1, 10))\n",
    "#Have the right order of the columns\n",
    "data = Dataset.load_from_df(b_data[[\"User-ID\", \"ISBN\", \"Book-Rating\"]], reader)\n",
    "\n",
    "# We can now use this dataset as we please, e.g. calling cross_validate\n",
    "print('Normal Predictor:',cross_validate(NormalPredictor(), data, cv=5))\n",
    "print('KNN Basic:',cross_validate(KNNBasic(), data, cv=5))\n",
    "print('SVD:',cross_validate(SVD(), data, cv=5))"
   ]
  },
  {
   "cell_type": "markdown",
   "id": "400e1a76",
   "metadata": {},
   "source": [
    "For this problem the best method to be used for the recommendation system was the SVD since it was the one with the lowest root mean square deviation (1.64) and mean average error (1.26) followed by the KNN Basic and with the worst result by far the Normal Predictor"
   ]
  },
  {
   "cell_type": "markdown",
   "id": "6e6af99c",
   "metadata": {},
   "source": [
    "## 3.2 - Filtering Books w/ review >= than 5"
   ]
  },
  {
   "cell_type": "markdown",
   "id": "9e9aefe6",
   "metadata": {},
   "source": [
    "Following the first idea we had during our analysis (Filtering the data set for the entries with reviews equal or greater than 5) we have created a new dataset and will apply the same recommendation system methods"
   ]
  },
  {
   "cell_type": "code",
   "execution_count": 49,
   "id": "06adf232",
   "metadata": {},
   "outputs": [],
   "source": [
    "rate_data = b_data[b_data['Book-Rating']>=5]"
   ]
  },
  {
   "cell_type": "code",
   "execution_count": 50,
   "id": "8aedd3c7",
   "metadata": {},
   "outputs": [
    {
     "name": "stdout",
     "output_type": "stream",
     "text": [
      "Normal Predictor: {'test_rmse': array([2.17683505, 2.16643321, 2.17210107, 2.17811641, 2.17498302]), 'test_mae': array([1.75852439, 1.75024584, 1.7542994 , 1.76080623, 1.75270825]), 'fit_time': (0.4157545566558838, 0.4964165687561035, 0.5307180881500244, 0.5775258541107178, 0.5066766738891602), 'test_time': (0.5679116249084473, 0.4093606472015381, 0.4482607841491699, 0.5929970741271973, 0.6542081832885742)}\n",
      "Computing the msd similarity matrix...\n",
      "Done computing similarity matrix.\n",
      "Computing the msd similarity matrix...\n",
      "Done computing similarity matrix.\n",
      "Computing the msd similarity matrix...\n",
      "Done computing similarity matrix.\n",
      "Computing the msd similarity matrix...\n",
      "Done computing similarity matrix.\n",
      "Computing the msd similarity matrix...\n",
      "Done computing similarity matrix.\n",
      "KNN Basic: {'test_rmse': array([1.67444312, 1.67784666, 1.67695044, 1.6777957 , 1.68761049]), 'test_mae': array([1.34246114, 1.34782258, 1.34814505, 1.34714476, 1.35728915]), 'fit_time': (25.84939479827881, 28.194161891937256, 28.186261415481567, 30.577831745147705, 26.725844860076904), 'test_time': (1.6669023036956787, 2.118482828140259, 2.0257458686828613, 2.17187237739563, 1.789292335510254)}\n",
      "SVD: {'test_rmse': array([1.399115  , 1.39352382, 1.39902223, 1.39781906, 1.40642787]), 'test_mae': array([1.12163468, 1.11606328, 1.12172382, 1.11984731, 1.12595772]), 'fit_time': (4.349080562591553, 4.141291379928589, 4.52990984916687, 4.493175029754639, 4.217724800109863), 'test_time': (0.5447070598602295, 0.5311145782470703, 0.546745777130127, 0.6731116771697998, 0.5326333045959473)}\n"
     ]
    }
   ],
   "source": [
    "#Have the right order of the columns\n",
    "\n",
    "data = Dataset.load_from_df(rate_data[[\"User-ID\", \"ISBN\", \"Book-Rating\"]], reader)\n",
    "\n",
    "# We can now use this dataset as we please, e.g. calling cross_validate\n",
    "print('Normal Predictor:',cross_validate(NormalPredictor(), data, cv=5))\n",
    "print('KNN Basic:',cross_validate(KNNBasic(), data, cv=5))\n",
    "print('SVD:',cross_validate(SVD(), data, cv=5))"
   ]
  },
  {
   "cell_type": "markdown",
   "id": "4e8dec73",
   "metadata": {},
   "source": [
    "The statistical measures to test the accuracy of the model have shown that here, again the SVD was the best method and has predict the quality of the predictions was improved significantly, the remaining methods have increased in the same way as the SVD, maintaining the same quality order"
   ]
  },
  {
   "cell_type": "markdown",
   "id": "c5a2034c",
   "metadata": {},
   "source": [
    "## 3.3 - Filtering Books w/ more than 4 reviews"
   ]
  },
  {
   "cell_type": "markdown",
   "id": "93653eac",
   "metadata": {},
   "source": [
    "The second idea we had during our analysis (Considering only books with more than 4 reviews) we have created a new dataset and will apply the same recommendation system methods"
   ]
  },
  {
   "cell_type": "code",
   "execution_count": 51,
   "id": "44b5804f",
   "metadata": {},
   "outputs": [],
   "source": [
    "rev_data = b_data[b_data['Book-Title'].isin(df2['Book-Title'])]"
   ]
  },
  {
   "cell_type": "code",
   "execution_count": 52,
   "id": "e4de15d0",
   "metadata": {},
   "outputs": [
    {
     "name": "stdout",
     "output_type": "stream",
     "text": [
      "Normal Predictor: {'test_rmse': array([2.43279408, 2.42551676, 2.42972375, 2.4200042 , 2.41923472]), 'test_mae': array([1.93319641, 1.93104677, 1.93029687, 1.92423526, 1.92222553]), 'fit_time': (0.18217062950134277, 0.258319616317749, 0.23431825637817383, 0.23431730270385742, 0.2343158721923828), 'test_time': (0.28118395805358887, 0.19099879264831543, 0.18745875358581543, 0.17183446884155273, 0.2655625343322754)}\n",
      "Computing the msd similarity matrix...\n",
      "Done computing similarity matrix.\n",
      "Computing the msd similarity matrix...\n",
      "Done computing similarity matrix.\n",
      "Computing the msd similarity matrix...\n",
      "Done computing similarity matrix.\n",
      "Computing the msd similarity matrix...\n",
      "Done computing similarity matrix.\n",
      "Computing the msd similarity matrix...\n",
      "Done computing similarity matrix.\n",
      "KNN Basic: {'test_rmse': array([1.91986615, 1.8981108 , 1.91324137, 1.90729098, 1.90923665]), 'test_mae': array([1.47595249, 1.45270355, 1.46925809, 1.46593668, 1.46773617]), 'fit_time': (14.359928846359253, 15.075010538101196, 16.56791114807129, 18.017070770263672, 17.11542272567749), 'test_time': (1.280423879623413, 1.1657638549804688, 1.2184410095214844, 1.6814088821411133, 1.6242690086364746)}\n",
      "SVD: {'test_rmse': array([1.60437706, 1.61184759, 1.61075122, 1.61932587, 1.62122744]), 'test_mae': array([1.23889295, 1.24466411, 1.24681001, 1.25131292, 1.253128  ]), 'fit_time': (2.140983819961548, 2.06803035736084, 2.0307979583740234, 2.0364134311676025, 2.169123888015747), 'test_time': (0.3333137035369873, 0.1874542236328125, 0.2030634880065918, 0.23435497283935547, 0.29683613777160645)}\n"
     ]
    }
   ],
   "source": [
    "#Have the right order of the columns\n",
    "\n",
    "data = Dataset.load_from_df(rev_data[[\"User-ID\", \"ISBN\", \"Book-Rating\"]], reader)\n",
    "\n",
    "# We can now use this dataset as we please, e.g. calling cross_validate\n",
    "print('Normal Predictor:',cross_validate(NormalPredictor(), data, cv=5))\n",
    "print('KNN Basic:',cross_validate(KNNBasic(), data, cv=5))\n",
    "print('SVD:',cross_validate(SVD(), data, cv=5))"
   ]
  },
  {
   "cell_type": "markdown",
   "id": "07215e9c",
   "metadata": {},
   "source": [
    "This approach, when comparing with the base test it got better statistical results, but when comparing with the first experiment based on the data analysis, the results were worse. Nevertheless the quality order of the methods was the same, the best method was the SVD"
   ]
  },
  {
   "cell_type": "markdown",
   "id": "b434eeb5",
   "metadata": {},
   "source": [
    "## 3.4 - Filtering Authors w/  8 or more reviews"
   ]
  },
  {
   "cell_type": "markdown",
   "id": "c590b9d0",
   "metadata": {},
   "source": [
    "The third idea we had during our analysis (Considering only authors with 8 or more reviews) we have created a new dataset and will apply the same recommendation system methods"
   ]
  },
  {
   "cell_type": "code",
   "execution_count": 53,
   "id": "15e8c346",
   "metadata": {},
   "outputs": [],
   "source": [
    "aut_data = b_data[b_data['Book-Author'].isin(aut)]"
   ]
  },
  {
   "cell_type": "code",
   "execution_count": 54,
   "id": "7929b858",
   "metadata": {},
   "outputs": [
    {
     "name": "stdout",
     "output_type": "stream",
     "text": [
      "Normal Predictor: {'test_rmse': array([2.46833244, 2.45481446, 2.45185895, 2.46090694, 2.45767154]), 'test_mae': array([1.97033243, 1.95312143, 1.95210025, 1.96193431, 1.95729173]), 'fit_time': (0.2916104793548584, 0.3515629768371582, 0.3592865467071533, 0.34366536140441895, 0.38530516624450684), 'test_time': (0.45569276809692383, 0.30009937286376953, 0.26556396484375, 0.3905313014984131, 0.2661011219024658)}\n",
      "Computing the msd similarity matrix...\n",
      "Done computing similarity matrix.\n",
      "Computing the msd similarity matrix...\n",
      "Done computing similarity matrix.\n",
      "Computing the msd similarity matrix...\n",
      "Done computing similarity matrix.\n",
      "Computing the msd similarity matrix...\n",
      "Done computing similarity matrix.\n",
      "Computing the msd similarity matrix...\n",
      "Done computing similarity matrix.\n",
      "KNN Basic: {'test_rmse': array([1.92712358, 1.93295188, 1.93776343, 1.91740627, 1.93272095]), 'test_mae': array([1.50127996, 1.50579625, 1.50640737, 1.49291242, 1.50473793]), 'fit_time': (20.43819499015808, 22.316972970962524, 24.371177196502686, 20.566340923309326, 20.58810305595398), 'test_time': (1.3539137840270996, 2.2936389446258545, 1.9929697513580322, 1.605010747909546, 1.6496565341949463)}\n",
      "SVD: {'test_rmse': array([1.62630623, 1.61854958, 1.60812399, 1.61904306, 1.61209754]), 'test_mae': array([1.25241224, 1.24971577, 1.23984762, 1.2472142 , 1.2412428 ]), 'fit_time': (3.1068849563598633, 3.0650546550750732, 3.1103010177612305, 3.1569454669952393, 3.173952341079712), 'test_time': (0.2967994213104248, 0.3124246597290039, 0.4373929500579834, 0.3164505958557129, 0.42177581787109375)}\n"
     ]
    }
   ],
   "source": [
    "#Have the right order of the columns\n",
    "\n",
    "data = Dataset.load_from_df(aut_data[[\"User-ID\", \"ISBN\", \"Book-Rating\"]], reader)\n",
    "\n",
    "# We can now use this dataset as we please, e.g. calling cross_validate\n",
    "print('Normal Predictor:',cross_validate(NormalPredictor(), data, cv=5))\n",
    "print('KNN Basic:',cross_validate(KNNBasic(), data, cv=5))\n",
    "print('SVD:',cross_validate(SVD(), data, cv=5))"
   ]
  },
  {
   "cell_type": "markdown",
   "id": "1d62b3e2",
   "metadata": {},
   "source": [
    "On This Data Set when comparing with the standard dataset the Normal Predictor got worse results but the other two showed improvements.\n",
    "When comparing with the other two datasets with changes, it was the one with the worse results"
   ]
  },
  {
   "cell_type": "markdown",
   "id": "c1c466c7",
   "metadata": {},
   "source": [
    "## 3.5 Combine all the previous filters that improve in the 2 methods"
   ]
  },
  {
   "cell_type": "markdown",
   "id": "be371cc1",
   "metadata": {},
   "source": [
    "Our final Idea was to combine the dataset used on 3.2 and 3.3 in order to increase the accuracy of the models"
   ]
  },
  {
   "cell_type": "code",
   "execution_count": 55,
   "id": "716a20f1",
   "metadata": {},
   "outputs": [],
   "source": [
    "pre_final = rate_data[rate_data['Book-Title'].isin(df2['Book-Title'])]"
   ]
  },
  {
   "cell_type": "code",
   "execution_count": 56,
   "id": "89e41823",
   "metadata": {},
   "outputs": [],
   "source": [
    "#final = pre_final[pre_final['Book-Author'].isin(aut)]"
   ]
  },
  {
   "cell_type": "code",
   "execution_count": 57,
   "id": "0727098d",
   "metadata": {},
   "outputs": [
    {
     "name": "stdout",
     "output_type": "stream",
     "text": [
      "Normal Predictor: {'test_rmse': array([2.10404454, 2.10825302, 2.09693486, 2.10704183, 2.08784413]), 'test_mae': array([1.70154416, 1.69834799, 1.68934996, 1.69947046, 1.68145481]), 'fit_time': (0.1874547004699707, 0.2590160369873047, 0.27309727668762207, 0.2638132572174072, 0.2413327693939209), 'test_time': (0.29680967330932617, 0.19186687469482422, 0.19187283515930176, 0.19814181327819824, 0.20812702178955078)}\n",
      "Computing the msd similarity matrix...\n",
      "Done computing similarity matrix.\n",
      "Computing the msd similarity matrix...\n",
      "Done computing similarity matrix.\n",
      "Computing the msd similarity matrix...\n",
      "Done computing similarity matrix.\n",
      "Computing the msd similarity matrix...\n",
      "Done computing similarity matrix.\n",
      "Computing the msd similarity matrix...\n",
      "Done computing similarity matrix.\n",
      "KNN Basic: {'test_rmse': array([1.63421538, 1.65338877, 1.64692076, 1.64504999, 1.65544695]), 'test_mae': array([1.28347724, 1.30124713, 1.29175246, 1.29244718, 1.30003216]), 'fit_time': (14.78264045715332, 17.555777072906494, 14.929316759109497, 15.492333173751831, 15.633949756622314), 'test_time': (1.359217882156372, 1.3577065467834473, 1.3325181007385254, 1.4079270362854004, 1.4557933807373047)}\n",
      "SVD: {'test_rmse': array([1.38386338, 1.38329627, 1.37741475, 1.38277132, 1.38633465]), 'test_mae': array([1.11011202, 1.11021456, 1.10593053, 1.10856508, 1.11278857]), 'fit_time': (1.9869701862335205, 2.1088991165161133, 2.032792568206787, 2.001152992248535, 2.016693353652954), 'test_time': (0.328049898147583, 0.2967681884765625, 0.20307540893554688, 0.20307517051696777, 0.204559326171875)}\n"
     ]
    }
   ],
   "source": [
    "#Have the right order of the columns\n",
    "\n",
    "data = Dataset.load_from_df(pre_final[[\"User-ID\", \"ISBN\", \"Book-Rating\"]], reader)\n",
    "\n",
    "# We can now use this dataset as we please, e.g. calling cross_validate\n",
    "print('Normal Predictor:',cross_validate(NormalPredictor(), data, cv=5))\n",
    "print('KNN Basic:',cross_validate(KNNBasic(), data, cv=5))\n",
    "print('SVD:',cross_validate(SVD(), data, cv=5))"
   ]
  },
  {
   "cell_type": "markdown",
   "id": "ee0cfbcd",
   "metadata": {},
   "source": [
    "The combination of Reviews greater than 5 and books with at least 5 reviews, gave the best result in terms of accuracy.\n",
    "Once again the SVD method was the best one."
   ]
  },
  {
   "cell_type": "markdown",
   "id": "36091233",
   "metadata": {},
   "source": [
    "# 4 - Conclusions"
   ]
  },
  {
   "cell_type": "markdown",
   "id": "512288f6",
   "metadata": {},
   "source": [
    "During this project it was important to understand that there are no perfect datasets in the world so the first step is always to understand the data and try to clean it as best as possible.\n",
    "After this we tried to understand if all entries were necessary or if the majority of data is concentrated with certain characteristics.\n",
    "\n",
    "We have concluded that the most common rating for the books was 8 and that the majority of reviews had a rate equal or greater than 5. Also, looking to the books we have notice that only 10% of the books have more than 4 reviews. And the final conclusion was regarding the authors were we could see that the increase of reviews makes the rating average of each author to be closer to 8, and 10% of the authors have 8 or more reviews.\n",
    "\n",
    "In the Recommendation system we started by applying three methods (Normal Predictor, KNN Basic and SVD) to the full data set. With this we conclude that the best method was the SVD, followed by the KNN Basic and Normal predictor (to determine the best method we used two statistical methodologies RMSE and MAE). The next step was to consider the insights extracted from our exploratory data analysis and the best combination was when we filtered our data to books with at least 5 reviews and reviews with a rating of at least five. Through all our testing the best method and worse was always the same. So we can conclude that SVD was the best methodology for this project and that our insights from the exploratory data analysis were important in increasing the accuracy of the recommendation system.\n"
   ]
  }
 ],
 "metadata": {
  "kernelspec": {
   "display_name": "Python 3 (ipykernel)",
   "language": "python",
   "name": "python3"
  },
  "language_info": {
   "codemirror_mode": {
    "name": "ipython",
    "version": 3
   },
   "file_extension": ".py",
   "mimetype": "text/x-python",
   "name": "python",
   "nbconvert_exporter": "python",
   "pygments_lexer": "ipython3",
   "version": "3.9.13"
  }
 },
 "nbformat": 4,
 "nbformat_minor": 5
}
